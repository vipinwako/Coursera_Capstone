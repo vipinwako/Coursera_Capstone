{
    "cells": [
        {
            "cell_type": "markdown",
            "metadata": {
                "collapsed": true
            },
            "source": "# Introduction/ Business Understanding"
        },
        {
            "cell_type": "markdown",
            "metadata": {},
            "source": "Road accidents are extremely common. Often times they lead to a loss of property and even life.\nIt will be great to understand what are the most common causes, in order to prevent them from happening? \nWith this analysis, I am attempting to understand these factors and their correlation. \nThis analysis will prompt the drivers to be more careful depending on the weather and road conditions on any given day or a way for the police to enforce more safety protocols. \nIn this instance, I am using the data from the City of Seattle\u2019s police department showing all the collisions from 2004 till present.\nStakeholders:\n  \u2022\tPublic Development Authority of Seattle\n  \u2022\tCar Drivers\n"
        },
        {
            "cell_type": "code",
            "execution_count": null,
            "metadata": {},
            "outputs": [],
            "source": ""
        }
    ],
    "metadata": {
        "kernelspec": {
            "display_name": "Python 3.6",
            "language": "python",
            "name": "python3"
        },
        "language_info": {
            "codemirror_mode": {
                "name": "ipython",
                "version": 3
            },
            "file_extension": ".py",
            "mimetype": "text/x-python",
            "name": "python",
            "nbconvert_exporter": "python",
            "pygments_lexer": "ipython3",
            "version": "3.6.9"
        }
    },
    "nbformat": 4,
    "nbformat_minor": 1
}